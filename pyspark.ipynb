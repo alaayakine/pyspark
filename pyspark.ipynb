{
 "cells": [
  {
   "cell_type": "code",
   "execution_count": 10,
   "id": "466d1200",
   "metadata": {},
   "outputs": [],
   "source": [
    "from pyspark.sql import SparkSession\n",
    "from pyspark.sql.functions import col"
   ]
  },
  {
   "cell_type": "code",
   "execution_count": 11,
   "id": "1827263a",
   "metadata": {},
   "outputs": [],
   "source": [
    "# Créer une session Spark\n",
    "spark = SparkSession.builder.appName(\"Traitement_JSON\").getOrCreate()"
   ]
  },
  {
   "cell_type": "code",
   "execution_count": 19,
   "id": "1f8fc525",
   "metadata": {},
   "outputs": [],
   "source": [
    "# Charger le fichier JSON dans un DataFrame\n",
    "df = spark.read.option(\"multiline\", \"true\").json('client.json')"
   ]
  },
  {
   "cell_type": "code",
   "execution_count": 20,
   "id": "1372ce05",
   "metadata": {},
   "outputs": [
    {
     "name": "stdout",
     "output_type": "stream",
     "text": [
      "root\n",
      " |-- client_id: long (nullable = true)\n",
      " |-- nombre_appartements: long (nullable = true)\n",
      " |-- revenus: long (nullable = true)\n",
      " |-- ville: string (nullable = true)\n",
      "\n"
     ]
    }
   ],
   "source": [
    "# Afficher le schéma du DataFrame pour comprendre la structure\n",
    "df.printSchema()"
   ]
  },
  {
   "cell_type": "code",
   "execution_count": 21,
   "id": "06a3b618",
   "metadata": {},
   "outputs": [
    {
     "name": "stdout",
     "output_type": "stream",
     "text": [
      "+---------+-------------------+-------+----------+\n",
      "|client_id|nombre_appartements|revenus|     ville|\n",
      "+---------+-------------------+-------+----------+\n",
      "|        1|                  2|  50000|     Rabat|\n",
      "|        2|                  1|  70000|Casablanca|\n",
      "|        3|                  3|  60000|     Rabat|\n",
      "|        4|                  2|  80000|Casablanca|\n",
      "|        5|                  1|  55000|    Tanger|\n",
      "+---------+-------------------+-------+----------+\n",
      "\n"
     ]
    }
   ],
   "source": [
    "df.show()"
   ]
  },
  {
   "cell_type": "code",
   "execution_count": 22,
   "id": "3456679d",
   "metadata": {},
   "outputs": [
    {
     "name": "stdout",
     "output_type": "stream",
     "text": [
      "+----------+------------+\n",
      "|     ville|sum(revenus)|\n",
      "+----------+------------+\n",
      "|Casablanca|      150000|\n",
      "|     Rabat|      110000|\n",
      "+----------+------------+\n",
      "\n"
     ]
    }
   ],
   "source": [
    "# 1. Afficher les deux premières villes où l'entreprise a réalisé plus de ventes (en termes de revenus)\n",
    "top_cities = (\n",
    "    df.groupBy(\"ville\")\n",
    "    .agg({\"revenus\": \"sum\"})\n",
    "    .orderBy(col(\"sum(revenus)\").desc())\n",
    "    .limit(2)\n",
    ")\n",
    "top_cities.show()"
   ]
  },
  {
   "cell_type": "code",
   "execution_count": 23,
   "id": "2152c600",
   "metadata": {},
   "outputs": [
    {
     "name": "stdout",
     "output_type": "stream",
     "text": [
      "+---------+-------------------+-------+-----+\n",
      "|client_id|nombre_appartements|revenus|ville|\n",
      "+---------+-------------------+-------+-----+\n",
      "|        1|                  2|  50000|Rabat|\n",
      "|        3|                  3|  60000|Rabat|\n",
      "+---------+-------------------+-------+-----+\n",
      "\n"
     ]
    }
   ],
   "source": [
    "# 2. Afficher la liste des clients qui possèdent plus d'un appartement à Rabat\n",
    "clients_rabat = df.filter((col(\"ville\") == \"Rabat\") & (col(\"nombre_appartements\") > 1))\n",
    "clients_rabat.show()"
   ]
  },
  {
   "cell_type": "code",
   "execution_count": 24,
   "id": "07989434",
   "metadata": {},
   "outputs": [
    {
     "name": "stdout",
     "output_type": "stream",
     "text": [
      "Le nombre d'appartements vendus à Casablanca est : 3\n"
     ]
    }
   ],
   "source": [
    "# 3. Afficher le nombre d'appartements vendus à Casablanca\n",
    "appartements_casablanca = df.filter(col(\"ville\") == \"Casablanca\").agg({\"nombre_appartements\": \"sum\"})\n",
    "nombre_appartements_casablanca = appartements_casablanca.collect()[0][0]\n",
    "print(f\"Le nombre d'appartements vendus à Casablanca est : {nombre_appartements_casablanca}\")\n"
   ]
  },
  {
   "cell_type": "code",
   "execution_count": 25,
   "id": "ed69dd10",
   "metadata": {},
   "outputs": [],
   "source": [
    "# Arrêter la session Spark\n",
    "spark.stop()"
   ]
  },
  {
   "cell_type": "code",
   "execution_count": null,
   "id": "c71a2270",
   "metadata": {},
   "outputs": [],
   "source": []
  }
 ],
 "metadata": {
  "kernelspec": {
   "display_name": "Python 3 (ipykernel)",
   "language": "python",
   "name": "python3"
  },
  "language_info": {
   "codemirror_mode": {
    "name": "ipython",
    "version": 3
   },
   "file_extension": ".py",
   "mimetype": "text/x-python",
   "name": "python",
   "nbconvert_exporter": "python",
   "pygments_lexer": "ipython3",
   "version": "3.10.9"
  }
 },
 "nbformat": 4,
 "nbformat_minor": 5
}
